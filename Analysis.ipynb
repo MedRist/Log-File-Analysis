{
 "cells": [
  {
   "cell_type": "markdown",
   "metadata": {},
   "source": [
    "# Main steps for Web usage mining of log files :\n",
    "\n",
    "1. Loading the log file: loading it into RDDs, We’ll do this in steps:\n",
    "          1. First, we will use sqlContext.read.text() to read the text file.\n",
    "2. Parsing the log file:\n",
    "          1. We’ll use one regular expression for each field we want to extract\n",
    "3. Data Cleaning :    \n",
    "          1. we verify that there are no null rows in the original data set.\n",
    "          2. The second step is the removal of graphical contents (audio, video, images).\n",
    "4. Do some statistics on the result of the Cleaning step.    \n"
   ]
  },
  {
   "cell_type": "code",
   "execution_count": 1,
   "metadata": {},
   "outputs": [
    {
     "ename": "ModuleNotFoundError",
     "evalue": "No module named 'pyspark'",
     "output_type": "error",
     "traceback": [
      "\u001b[1;31m---------------------------------------------------------------------------\u001b[0m",
      "\u001b[1;31mModuleNotFoundError\u001b[0m                       Traceback (most recent call last)",
      "\u001b[1;32m<ipython-input-1-f1ce706cd7e7>\u001b[0m in \u001b[0;36m<module>\u001b[1;34m\u001b[0m\n\u001b[0;32m      3\u001b[0m \u001b[1;32mimport\u001b[0m \u001b[0mdatetime\u001b[0m\u001b[1;33m\u001b[0m\u001b[0m\n\u001b[0;32m      4\u001b[0m \u001b[1;33m\u001b[0m\u001b[0m\n\u001b[1;32m----> 5\u001b[1;33m \u001b[1;32mfrom\u001b[0m \u001b[0mpyspark\u001b[0m\u001b[1;33m.\u001b[0m\u001b[0msql\u001b[0m \u001b[1;32mimport\u001b[0m \u001b[0mRow\u001b[0m\u001b[1;33m\u001b[0m\u001b[0m\n\u001b[0m\u001b[0;32m      6\u001b[0m \u001b[1;32mimport\u001b[0m \u001b[0mpandas\u001b[0m \u001b[1;32mas\u001b[0m \u001b[0mpd\u001b[0m\u001b[1;33m\u001b[0m\u001b[0m\n\u001b[0;32m      7\u001b[0m \u001b[1;33m\u001b[0m\u001b[0m\n",
      "\u001b[1;31mModuleNotFoundError\u001b[0m: No module named 'pyspark'"
     ]
    }
   ],
   "source": [
    "# Function to parse the log file, by using RegLex\n",
    "import re\n",
    "import datetime\n",
    "\n",
    "from pyspark.sql import Row\n",
    "import pandas as pd\n",
    "\n",
    "\n",
    "# A regular expression pattern to extract fields from the log line\n",
    "APACHE_ACCESS_LOG_PATTERN = '^(\\S+) (\\S+) (\\S+) \\[([\\w:/]+\\s[+\\-]\\d{4})\\] \"(\\S+) (\\S+)\\s*(\\S*)\" (\\d{3}) (\\S+)'\n",
    "\n",
    "month_map = {'Jan': 1, 'Feb': 2, 'Mar':3, 'Apr':4, 'May':5, 'Jun':6, 'Jul':7,\n",
    "    'Aug':8,  'Sep': 9, 'Oct':10, 'Nov': 11, 'Dec': 12}\n",
    "\n",
    "def parse_apache_time(s):\n",
    "    \"\"\" Convert Apache time format into a Python datetime object\n",
    "    Args:\n",
    "        s (str): date and time in Apache time format\n",
    "    Returns:\n",
    "        datetime: datetime object (ignore timezone for now)\n",
    "    \"\"\"\n",
    "    return datetime.datetime(int(s[7:11]),\n",
    "                             month_map[s[3:6]],\n",
    "                             int(s[0:2]),\n",
    "                             int(s[12:14]),\n",
    "                             int(s[15:17]),\n",
    "                             int(s[18:20]))\n"
   ]
  },
  {
   "cell_type": "code",
   "execution_count": 2,
   "metadata": {},
   "outputs": [],
   "source": [
    "\n",
    "def parseApacheLogLine(logline):\n",
    "    \"\"\" Parse a line in the Apache Common Log format\n",
    "    Args:\n",
    "        logline (str): a line of text in the Apache Common Log format\n",
    "    Returns:\n",
    "        tuple: either a dictionary containing the parts of the Apache Access Log and 1,\n",
    "               or the original invalid log line and 0\n",
    "    \"\"\"\n",
    "    match = re.search(APACHE_ACCESS_LOG_PATTERN, logline)\n",
    "    if match is None:\n",
    "        return (logline, 0)\n",
    "    size_field = match.group(9)\n",
    "    if size_field == '-':\n",
    "        size = int(0)\n",
    "    else:\n",
    "        size = int(match.group(9))\n",
    "    return (Row(\n",
    "        host          = match.group(1),\n",
    "        client_identd = match.group(2),\n",
    "        user_id       = match.group(3),\n",
    "        date_time     = parse_apache_time(match.group(4)),\n",
    "        method        = match.group(5),\n",
    "        endpoint      = match.group(6),\n",
    "        protocol      = match.group(7),\n",
    "        response_code = int(match.group(8)),\n",
    "        content_size  = size\n",
    "    ), 1)\n",
    "\n",
    "\n"
   ]
  },
  {
   "cell_type": "code",
   "execution_count": 3,
   "metadata": {
    "scrolled": true
   },
   "outputs": [
    {
     "name": "stdout",
     "output_type": "stream",
     "text": [
      "Read 1569898 lines, parsed 1569003 file sucessfully, failed to parse 895 \n"
     ]
    }
   ],
   "source": [
    "import sys\n",
    "import os\n",
    "\n",
    "logFile = os.path.abspath('access_log_Aug95')\n",
    "\n",
    "def parseLogs():\n",
    "    \"\"\" Read and parse log file \"\"\"\n",
    "    parsedLogs=sc.textFile(logFile).map(parseApacheLogLine)\n",
    "    accessLogs=parsedLogs.filter(lambda s:s[1]==1).map(lambda s:s[0])# Regrouping the good rows \n",
    "    failedLogs=parsedLogs.filter(lambda s:s[1]==0).map(lambda s:s[0])# Regrouping the bad rows(failed to parsed)\n",
    "    \n",
    "    print ('Read %d lines, parsed %d file sucessfully, failed to parse %d ' % (parsedLogs.count(),accessLogs.count()\n",
    "    ,failedLogs.count()))\n",
    "    return parsedLogs,accessLogs,failedLogs\n",
    "\n",
    "\n",
    "parsed_logs,access_logs,failed_logs=parseLogs()\n",
    "\n"
   ]
  },
  {
   "cell_type": "code",
   "execution_count": 4,
   "metadata": {},
   "outputs": [
    {
     "name": "stdout",
     "output_type": "stream",
     "text": [
      "606400\n"
     ]
    }
   ],
   "source": [
    "#  The removal of graphical contents\n",
    "\n",
    "cleanedLogs = access_logs.filter(lambda s: \"gif\" not in s.endpoint).filter(lambda s: \"jpg\" not in s.endpoint).filter(lambda s: \"png\" not in s.endpoint).cache()\n",
    "print(cleanedLogs.count())"
   ]
  },
  {
   "cell_type": "code",
   "execution_count": 5,
   "metadata": {},
   "outputs": [
    {
     "name": "stdout",
     "output_type": "stream",
     "text": [
      "Content Size Avg: 17097, Min: 0, Max: 3421948\n"
     ]
    }
   ],
   "source": [
    "# Calculate statistics based on the content size.\n",
    "\n",
    "content_sizes = access_logs.map(lambda log: log.content_size)\n",
    "print ('Content Size Avg: %i, Min: %i, Max: %s' % (\n",
    "    content_sizes.reduce(lambda a, b : a + b) / content_sizes.count(),\n",
    "    content_sizes.min(),\n",
    "    content_sizes.max()))\n"
   ]
  },
  {
   "cell_type": "code",
   "execution_count": 6,
   "metadata": {},
   "outputs": [
    {
     "name": "stdout",
     "output_type": "stream",
     "text": [
      "[(200, 1398207), (500, 3), (501, 27), (302, 26437), (403, 171), (304, 134138), (404, 10020)]\n"
     ]
    }
   ],
   "source": [
    "responseCodeCount = access_logs.map(lambda log:(log.response_code,1)).reduceByKey(lambda a,b:a+b).cache()\n",
    "responseCodeToCountList = responseCodeCount.take(10)\n",
    "\n",
    "print (responseCodeToCountList)"
   ]
  },
  {
   "cell_type": "code",
   "execution_count": 7,
   "metadata": {},
   "outputs": [
    {
     "name": "stdout",
     "output_type": "stream",
     "text": [
      "[200, 500, 501, 302, 403, 304, 404]\n",
      "[0.8911436115800926, 1.9120422331888467e-06, 1.720838009869962e-05, 0.01684955350627118, 0.00010898640729176426, 0.08549250702516184, 0.006386221058850748]\n"
     ]
    }
   ],
   "source": [
    "# Computing and Plotting the Frequency of Each Response Code\n",
    "\n",
    "labels = responseCodeCount.map(lambda x: x[0]).collect()\n",
    "print (labels)\n",
    "count = access_logs.count()\n",
    "fracs = responseCodeCount.map(lambda x: (float(x[1]) / count)).collect()\n",
    "print (fracs)"
   ]
  },
  {
   "cell_type": "code",
   "execution_count": 8,
   "metadata": {},
   "outputs": [
    {
     "data": {
      "image/png": "[encoded data removed]",
      "text/plain": [
       "<Figure size 720x720 with 1 Axes>"
      ]
     },
     "metadata": {},
     "output_type": "display_data"
    }
   ],
   "source": [
    "import matplotlib.pyplot as plt\n",
    "%matplotlib inline\n",
    "import matplotlib.pyplot as plt\n",
    "\n",
    "\n",
    "def pie_pct_format(value):\n",
    "    \"\"\" Determine the appropriate format string for the pie chart percentage label\n",
    "    Args:\n",
    "        value: value of the pie slice\n",
    "    Returns:\n",
    "        str: formated string label; if the slice is too small to fit, returns an empty string for label\n",
    "    \"\"\"\n",
    "    return '' if value < 7 else '%.0f%%' % value\n",
    "\n",
    "fig = plt.figure(figsize=(10, 10), facecolor='white', edgecolor='white')\n",
    "colors = ['yellowgreen', 'lightskyblue', 'gold', 'purple', 'lightcoral', 'yellow', 'black']\n",
    "explode = (0.05, 0.05, 0.1, 0, 0, 0, 0)\n",
    "patches, texts, autotexts = plt.pie(fracs, labels=labels, colors=colors,\n",
    "                                    explode=explode, autopct=pie_pct_format,\n",
    "                                    shadow=False,  startangle=125)\n",
    "for text, autotext in zip(texts, autotexts):\n",
    "    if autotext.get_text() == '':\n",
    "        text.set_text('')  # If the slice is small to fit, don't show a text label\n",
    "plt.legend(labels, loc=(0.80, -0.1), shadow=True)\n",
    "pass"
   ]
  },
  {
   "cell_type": "code",
   "execution_count": 9,
   "metadata": {},
   "outputs": [
    {
     "data": {
      "text/html": [
       "<div>\n",
       "<style scoped>\n",
       "    .dataframe tbody tr th:only-of-type {\n",
       "        vertical-align: middle;\n",
       "    }\n",
       "\n",
       "    .dataframe tbody tr th {\n",
       "        vertical-align: top;\n",
       "    }\n",
       "\n",
       "    .dataframe thead th {\n",
       "        text-align: right;\n",
       "    }\n",
       "</style>\n",
       "<table border=\"1\" class=\"dataframe\">\n",
       "  <thead>\n",
       "    <tr style=\"text-align: right;\">\n",
       "      <th></th>\n",
       "      <th>endPoint</th>\n",
       "      <th>Number of Access</th>\n",
       "    </tr>\n",
       "  </thead>\n",
       "  <tbody>\n",
       "    <tr>\n",
       "      <th>0</th>\n",
       "      <td>/ksc.html</td>\n",
       "      <td>41392</td>\n",
       "    </tr>\n",
       "    <tr>\n",
       "      <th>1</th>\n",
       "      <td>/</td>\n",
       "      <td>26722</td>\n",
       "    </tr>\n",
       "    <tr>\n",
       "      <th>2</th>\n",
       "      <td>/shuttle/missions/sts-69/mission-sts-69.html</td>\n",
       "      <td>23248</td>\n",
       "    </tr>\n",
       "    <tr>\n",
       "      <th>3</th>\n",
       "      <td>/shuttle/countdown/</td>\n",
       "      <td>22244</td>\n",
       "    </tr>\n",
       "    <tr>\n",
       "      <th>4</th>\n",
       "      <td>/shuttle/missions/missions.html</td>\n",
       "      <td>20715</td>\n",
       "    </tr>\n",
       "    <tr>\n",
       "      <th>5</th>\n",
       "      <td>/htbin/cdt_main.pl</td>\n",
       "      <td>17245</td>\n",
       "    </tr>\n",
       "    <tr>\n",
       "      <th>6</th>\n",
       "      <td>/icons/menu.xbm</td>\n",
       "      <td>10726</td>\n",
       "    </tr>\n",
       "    <tr>\n",
       "      <th>7</th>\n",
       "      <td>/icons/blank.xbm</td>\n",
       "      <td>10582</td>\n",
       "    </tr>\n",
       "    <tr>\n",
       "      <th>8</th>\n",
       "      <td>/history/history.html</td>\n",
       "      <td>9504</td>\n",
       "    </tr>\n",
       "    <tr>\n",
       "      <th>9</th>\n",
       "      <td>/software/winvn/winvn.html</td>\n",
       "      <td>9251</td>\n",
       "    </tr>\n",
       "  </tbody>\n",
       "</table>\n",
       "</div>"
      ],
      "text/plain": [
       "                                       endPoint  Number of Access\n",
       "0                                     /ksc.html             41392\n",
       "1                                             /             26722\n",
       "2  /shuttle/missions/sts-69/mission-sts-69.html             23248\n",
       "3                           /shuttle/countdown/             22244\n",
       "4               /shuttle/missions/missions.html             20715\n",
       "5                            /htbin/cdt_main.pl             17245\n",
       "6                               /icons/menu.xbm             10726\n",
       "7                              /icons/blank.xbm             10582\n",
       "8                         /history/history.html              9504\n",
       "9                    /software/winvn/winvn.html              9251"
      ]
     },
     "execution_count": 9,
     "metadata": {},
     "output_type": "execute_result"
    }
   ],
   "source": [
    "# Top Endpoints with 200 on status\n",
    "topEndpoints = (cleanedLogs\n",
    "                .filter(lambda log: log.response_code == 200)\n",
    "                .map(lambda log: (log.endpoint, 1))\n",
    "                .reduceByKey(lambda a, b : a + b)\n",
    "                .takeOrdered(10, lambda s: -1 * s[1]))\n",
    "topEndpoints.sort(key= lambda tup : tup[1],reverse=True)\n",
    "pd.DataFrame( topEndpoints, columns=['endPoint','Number of Access'])"
   ]
  },
  {
   "cell_type": "code",
   "execution_count": 10,
   "metadata": {},
   "outputs": [
    {
     "data": {
      "text/html": [
       "<div>\n",
       "<style scoped>\n",
       "    .dataframe tbody tr th:only-of-type {\n",
       "        vertical-align: middle;\n",
       "    }\n",
       "\n",
       "    .dataframe tbody tr th {\n",
       "        vertical-align: top;\n",
       "    }\n",
       "\n",
       "    .dataframe thead th {\n",
       "        text-align: right;\n",
       "    }\n",
       "</style>\n",
       "<table border=\"1\" class=\"dataframe\">\n",
       "  <thead>\n",
       "    <tr style=\"text-align: right;\">\n",
       "      <th></th>\n",
       "      <th>Host</th>\n",
       "      <th>Number of Access</th>\n",
       "    </tr>\n",
       "  </thead>\n",
       "  <tbody>\n",
       "    <tr>\n",
       "      <th>0</th>\n",
       "      <td>www-d3.proxy.aol.com</td>\n",
       "      <td>1523</td>\n",
       "    </tr>\n",
       "    <tr>\n",
       "      <th>1</th>\n",
       "      <td>bdmgate.bdm.com</td>\n",
       "      <td>237</td>\n",
       "    </tr>\n",
       "    <tr>\n",
       "      <th>2</th>\n",
       "      <td>reggae.iinet.net.au</td>\n",
       "      <td>99</td>\n",
       "    </tr>\n",
       "    <tr>\n",
       "      <th>3</th>\n",
       "      <td>gikai.eng.nhk.or.jp</td>\n",
       "      <td>97</td>\n",
       "    </tr>\n",
       "    <tr>\n",
       "      <th>4</th>\n",
       "      <td>uplherc.upl.com</td>\n",
       "      <td>40</td>\n",
       "    </tr>\n",
       "    <tr>\n",
       "      <th>5</th>\n",
       "      <td>chuken02.shinshu-u.ac.jp</td>\n",
       "      <td>32</td>\n",
       "    </tr>\n",
       "    <tr>\n",
       "      <th>6</th>\n",
       "      <td>adam.tower.com.au</td>\n",
       "      <td>24</td>\n",
       "    </tr>\n",
       "    <tr>\n",
       "      <th>7</th>\n",
       "      <td>dd09-012.compuserve.com</td>\n",
       "      <td>19</td>\n",
       "    </tr>\n",
       "    <tr>\n",
       "      <th>8</th>\n",
       "      <td>dialup-2-139.gw.umn.edu</td>\n",
       "      <td>17</td>\n",
       "    </tr>\n",
       "    <tr>\n",
       "      <th>9</th>\n",
       "      <td>k12.oit.umass.edu</td>\n",
       "      <td>17</td>\n",
       "    </tr>\n",
       "  </tbody>\n",
       "</table>\n",
       "</div>"
      ],
      "text/plain": [
       "                       Host  Number of Access\n",
       "0      www-d3.proxy.aol.com              1523\n",
       "1           bdmgate.bdm.com               237\n",
       "2       reggae.iinet.net.au                99\n",
       "3       gikai.eng.nhk.or.jp                97\n",
       "4           uplherc.upl.com                40\n",
       "5  chuken02.shinshu-u.ac.jp                32\n",
       "6         adam.tower.com.au                24\n",
       "7   dd09-012.compuserve.com                19\n",
       "8   dialup-2-139.gw.umn.edu                17\n",
       "9         k12.oit.umass.edu                17"
      ]
     },
     "execution_count": 10,
     "metadata": {},
     "output_type": "execute_result"
    }
   ],
   "source": [
    "# Any IPAddress that has accessed the server more than 10 times.\n",
    "\n",
    "ipAddresses = (cleanedLogs\n",
    "               .map(lambda log: (log.host, 1))\n",
    "               .reduceByKey(lambda a, b : a + b)\n",
    "               .filter(lambda s: s[1] > 10)\n",
    "               .take(10))\n",
    "ipAddresses.sort(key= lambda tup : tup[1],reverse=True)\n",
    "pd.DataFrame( ipAddresses, columns=['Host','Number of Access'])"
   ]
  },
  {
   "cell_type": "code",
   "execution_count": 11,
   "metadata": {},
   "outputs": [
    {
     "name": "stdout",
     "output_type": "stream",
     "text": [
      "Top Ten failed URLs:\n"
     ]
    },
    {
     "data": {
      "text/html": [
       "<div>\n",
       "<style scoped>\n",
       "    .dataframe tbody tr th:only-of-type {\n",
       "        vertical-align: middle;\n",
       "    }\n",
       "\n",
       "    .dataframe tbody tr th {\n",
       "        vertical-align: top;\n",
       "    }\n",
       "\n",
       "    .dataframe thead th {\n",
       "        text-align: right;\n",
       "    }\n",
       "</style>\n",
       "<table border=\"1\" class=\"dataframe\">\n",
       "  <thead>\n",
       "    <tr style=\"text-align: right;\">\n",
       "      <th></th>\n",
       "      <th>endPoint</th>\n",
       "      <th>Number of Failed access</th>\n",
       "    </tr>\n",
       "  </thead>\n",
       "  <tbody>\n",
       "    <tr>\n",
       "      <th>0</th>\n",
       "      <td>/</td>\n",
       "      <td>3605</td>\n",
       "    </tr>\n",
       "    <tr>\n",
       "      <th>1</th>\n",
       "      <td>/ksc.html</td>\n",
       "      <td>2291</td>\n",
       "    </tr>\n",
       "    <tr>\n",
       "      <th>2</th>\n",
       "      <td>/pub/winvn/readme.txt</td>\n",
       "      <td>1337</td>\n",
       "    </tr>\n",
       "    <tr>\n",
       "      <th>3</th>\n",
       "      <td>/history/apollo/a-001/images/</td>\n",
       "      <td>29</td>\n",
       "    </tr>\n",
       "    <tr>\n",
       "      <th>4</th>\n",
       "      <td>/cgi-bin/imagemap/countdown70?62,224</td>\n",
       "      <td>2</td>\n",
       "    </tr>\n",
       "    <tr>\n",
       "      <th>5</th>\n",
       "      <td>/cgi-bin/imagemap/countdown70?54,211</td>\n",
       "      <td>1</td>\n",
       "    </tr>\n",
       "    <tr>\n",
       "      <th>6</th>\n",
       "      <td>/cgi-bin/imagemap/countdown70?66,225</td>\n",
       "      <td>1</td>\n",
       "    </tr>\n",
       "    <tr>\n",
       "      <th>7</th>\n",
       "      <td>/cgi-bin/imagemap/countdown70?288,283</td>\n",
       "      <td>1</td>\n",
       "    </tr>\n",
       "    <tr>\n",
       "      <th>8</th>\n",
       "      <td>/sts-71/launch/</td>\n",
       "      <td>1</td>\n",
       "    </tr>\n",
       "    <tr>\n",
       "      <th>9</th>\n",
       "      <td>/cgi-bin/imagemap/countdown70?56,190</td>\n",
       "      <td>1</td>\n",
       "    </tr>\n",
       "  </tbody>\n",
       "</table>\n",
       "</div>"
      ],
      "text/plain": [
       "                                endPoint  Number of Failed access\n",
       "0                                      /                     3605\n",
       "1                              /ksc.html                     2291\n",
       "2                  /pub/winvn/readme.txt                     1337\n",
       "3          /history/apollo/a-001/images/                       29\n",
       "4   /cgi-bin/imagemap/countdown70?62,224                        2\n",
       "5   /cgi-bin/imagemap/countdown70?54,211                        1\n",
       "6   /cgi-bin/imagemap/countdown70?66,225                        1\n",
       "7  /cgi-bin/imagemap/countdown70?288,283                        1\n",
       "8                        /sts-71/launch/                        1\n",
       "9   /cgi-bin/imagemap/countdown70?56,190                        1"
      ]
     },
     "execution_count": 11,
     "metadata": {},
     "output_type": "execute_result"
    }
   ],
   "source": [
    "# accesses that did not return a code 200\n",
    "not200DF = (cleanedLogs.filter(lambda log:log.response_code !=200)\n",
    "                      .map(lambda log: (log.endpoint, 1))\n",
    "                      .reduceByKey(lambda a, b : a + b)\n",
    "                      .take(10))\n",
    "\n",
    "print(\"Top Ten failed URLs:\")\n",
    "not200DF.sort(key= lambda tup : tup[1],reverse=True)\n",
    "pd.DataFrame( not200DF, columns=['endPoint','Number of Failed access'])"
   ]
  },
  {
   "cell_type": "code",
   "execution_count": 12,
   "metadata": {},
   "outputs": [
    {
     "name": "stdout",
     "output_type": "stream",
     "text": [
      "Number of Hits per day\n"
     ]
    },
    {
     "data": {
      "text/plain": [
       "<matplotlib.axes._subplots.AxesSubplot at 0x1a2c570>"
      ]
     },
     "execution_count": 12,
     "metadata": {},
     "output_type": "execute_result"
    },
    {
     "data": {
      "image/png": "[encoded data removed]",
      "text/plain": [
       "<Figure size 1296x576 with 1 Axes>"
      ]
     },
     "metadata": {
      "needs_background": "light"
     },
     "output_type": "display_data"
    }
   ],
   "source": [
    "# Number of Hits per day\n",
    "\n",
    "import pandas as pd\n",
    "import numpy as np\n",
    "from pandas import Series, DataFrame, Panel\n",
    "\n",
    "\n",
    "\n",
    "perMonth =  (cleanedLogs.map(lambda log: (log[2].day  ,1 ))\n",
    "                       .reduceByKey(lambda a, b : a + b)\n",
    "                       .map(lambda log: (log[0] ,log[1]))\n",
    "                       .take(30))\n",
    "\n",
    "print(\"Number of Hits per day\")\n",
    "pd.DataFrame( perMonth, columns=['day','Number of hits']).plot(kind='bar',figsize=(18, 8),rot=0)\n"
   ]
  },
  {
   "cell_type": "code",
   "execution_count": 13,
   "metadata": {},
   "outputs": [
    {
     "name": "stdout",
     "output_type": "stream",
     "text": [
      "[('HEAD', 1468), ('GET', 604837), ('POST', 95)]\n"
     ]
    }
   ],
   "source": [
    "# the frequency of Each Method\n",
    "methods =  (cleanedLogs.map(lambda log: (log.method  ,1 ))\n",
    "                       .reduceByKey(lambda a, b : a + b).collect())\n",
    "                       \n",
    "print(methods)         "
   ]
  },
  {
   "cell_type": "code",
   "execution_count": null,
   "metadata": {},
   "outputs": [],
   "source": []
  }
 ],
 "metadata": {
  "kernelspec": {
   "display_name": "Python 3",
   "language": "python",
   "name": "python3"
  },
  "language_info": {
   "codemirror_mode": {
    "name": "ipython",
    "version": 3
   },
   "file_extension": ".py",
   "mimetype": "text/x-python",
   "name": "python",
   "nbconvert_exporter": "python",
   "pygments_lexer": "ipython3",
   "version": "3.7.0"
  }
 },
 "nbformat": 4,
 "nbformat_minor": 2
}
